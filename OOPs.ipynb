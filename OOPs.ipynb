{
  "nbformat": 4,
  "nbformat_minor": 0,
  "metadata": {
    "colab": {
      "provenance": []
    },
    "kernelspec": {
      "name": "python3",
      "display_name": "Python 3"
    },
    "language_info": {
      "name": "python"
    }
  },
  "cells": [
    {
      "cell_type": "markdown",
      "source": [
        "# OOPs Assignment Questions\n",
        "\n",
        "1.What is Object-Oriented Programming (OOP)?\n",
        "  - Object-Oriented Programming (OOP) is a programming paradigm based on the concept of \"objects\", which can contain data and code. 1  OOP aims to organize code into reusable and modular components, making it easier to manage, maintain, and understand complex software systems.\n",
        "\n",
        "2.What is a class in OOP?\n",
        "  - In Object-Oriented Programming (OOP), a class is like a blueprint or template for creating objects. It defines the structure and behavior of those objects, including:\n",
        "\n",
        "Attributes (data members): Variables that represent the characteristics or properties of the objects.\n",
        "Methods (member functions): Functions that define the actions or operations that the objects can perform.\n",
        "\n",
        "\n",
        "3.What is an object in OOP?\n",
        "  - In Object-Oriented Programming (OOP), an object is an instance of a class. It represents a specific entity with its own unique set of properties and behaviors.\n",
        "\n",
        "Key characteristics of an object:\n",
        "\n",
        "State: Defined by its attributes (data members) which hold the current values of the object's properties.\n",
        "Behavior: Defined by its methods (member functions) which specify the actions or operations the object can perform.\n",
        "\n",
        "\n",
        "\n",
        "4. What is the difference between abstraction and encapsulation?\n",
        "   - Abstraction and encapsulation are two fundamental concepts in object-oriented programming (OOP) that work together to create well-structured and maintainable code.\n",
        "\n",
        "Abstraction\n",
        "Focus: Hides the implementation details of a system, exposing only the essential features or behavior.\n",
        "\n",
        "- Encapsulation\n",
        "Focus: Bundles data and methods that operate on the data within a single unit (usually a class).\n",
        "\n",
        "\n",
        "5.What are dunder methods in Python?\n",
        "  - Dunder Methods in Python\n",
        "\n",
        "Dunder methods, also known as magic methods or special methods, are a powerful feature in Python that allow you to customize the behavior of your classes in various ways. They are methods with names that start and end with double underscores (e.g., __init__, __str__, __add__).\n",
        "\n",
        "\n",
        "6.Explain the concept of inheritance in OOP\n",
        "  - Inheritance in Object-Oriented Programming (OOP)\n",
        "\n",
        "Inheritance is a powerful mechanism in OOP that allows you to create new classes (called subclasses or child classes) from existing ones (called superclasses or parent classes). This means that the subclass inherits the properties (attributes) and behaviors (methods) of the superclass, establishing a hierarchical relationship between them.\n",
        "\n",
        "\n",
        "7. What is polymorphism in OOP?\n",
        "   - Polymorphism in Object-Oriented Programming (OOP)\n",
        "\n",
        "Polymorphism is a fundamental concept in OOP that allows objects of different classes to be treated as objects of a common 1  type. This means that you can write code that works with objects of different classes in a uniform way, making your code more flexible and adaptable.\n",
        "\n",
        "8.How is encapsulation achieved in Python1\n",
        " - Encapsulation in Python\n",
        "\n",
        "Encapsulation is a fundamental principle in object-oriented programming (OOP) that involves bundling data (attributes) and methods (functions) that operate on that data within a single unit, 1  typically a class. It also restricts direct access to some components, which helps protect the integrity of the data and ensures proper usage.\n",
        "\n",
        "9. What is a constructor in Python?\n",
        "   - In Python, a constructor is a special method within a class that is automatically called when an object of that class is created. Its 1  primary purpose is to initialize the object's 2  attributes (data members) with initial values.\n",
        "\n",
        "\n",
        "10.What are class and static methods in Python?\n",
        "   - Class and Static Methods in Python\n",
        "\n",
        "In Python, you can define different types of methods within a class:\n",
        "\n",
        "1. Instance Methods:\n",
        "\n",
        "Most Common: These are the standard methods you'll encounter most often.\n",
        "Access to Instance: They implicitly receive the instance of the class (self) as the first argument.\n",
        "\n",
        "\n",
        "11.What is method overloading in Python?\n",
        "   - In short, method overloading in Python refers to the ability to define multiple methods with the same name but different parameters within a class.\n",
        "\n",
        "While Python doesn't directly support method overloading like some other languages (e.g., Java, C++), you can achieve similar behavior using techniques\n",
        "\n",
        "\n",
        "12.What is method overriding in OOP?\n",
        "   - Method Overriding in OOP\n",
        "\n",
        "In Object-Oriented Programming (OOP), method overriding is a powerful concept that allows a subclass to provide its own specific implementation of a method that is already defined in its superclass (parent class).\n",
        "\n",
        "13.F What is a property decorator in Python?\n",
        "  - In Python, property decorators are a powerful mechanism for creating getter, setter, and deleter methods for attributes of a class, making them appear as if you're directly accessing and modifying the attribute while still having control over how these operations are performed.\n",
        "\n",
        "14.Why is polymorphism important in OOP?\n",
        "  - Polymorphism in OOP is crucial because it:\n",
        "\n",
        "Increases Flexibility: Allows you to write code that can work with objects of different classes in a uniform way.\n",
        "Improves Reusability: Reduces code duplication by enabling you to write generic code that can handle various objects.\n",
        "Enhances Maintainability: Makes code easier to modify and extend without affecting other parts of the system.\n",
        "\n",
        "15.What is an abstract class in Python?\n",
        "   - In Python, an abstract class is a class that cannot be instantiated directly. It serves as a blueprint or template for other classes, 1  defining a common interface and enforcing the implementation of certain methods by its subclasses.\n",
        "\n",
        "16.What are the advantages of OOP?\n",
        "   - OOP offers several key advantages:\n",
        "\n",
        "Modularity: Breaks down complex problems into smaller, more manageable units (objects).\n",
        "Reusability: Encourages code reuse through inheritance and polymorphism.\n",
        "Maintainability: Makes code easier to understand, modify, and debug.\n",
        "Flexibility: Supports code adaptability and extensibility.\n",
        "\n",
        "17.What is the difference between a class variable and an instance variable?\n",
        "  - Class Variables\n",
        "\n",
        "Shared among all instances of a class.\n",
        "Defined within the class, but outside any method.\n",
        "Accessed using the class name (e.g., ClassName.variable_name).\n",
        "Instance Variables\n",
        "\n",
        "Unique to each instance of a class.\n",
        "Defined within the constructor (__init__) or other methods.\n",
        "\n",
        "\n",
        "18.What is multiple inheritance in Python?\n",
        "  - multiple inheritance in Python allows a class to inherit from multiple parent classes. This means a subclass can inherit attributes and methods from two or more superclasses.\n",
        "\n",
        "Inheriting from Multiple Sources: A subclass can inherit characteristics from multiple parent classes.\n",
        "\n",
        "\n",
        "19.Explain the purpose of ‘’__str__’ and ‘__repr__’ ‘ methods in Python?\n",
        "  -  __str__:\n",
        "\n",
        "Purpose: Provides a human-readable string representation of an object.\n",
        "Use Case: Primarily for user-friendly output, often used with print().\n",
        "__repr__\n",
        "\n",
        "Purpose: Provides an unambiguous string representation of an object, often used for debugging and recreating the object.\n",
        "Use Case: Intended to be more informative for developers, often used in interactive environments like the Python interpreter.\n",
        "In essence:\n",
        "\n",
        "__str__ focuses on readability for humans.\n",
        "__repr__ focuses on accuracy and recreating the object for developers.\n",
        "\n",
        "\n",
        "20.What is the significance of the ‘super()’ function in Python?\n",
        "   - In Python, the super() function is used to access methods of the parent class from within a child class.\n",
        "\n",
        "Method Overriding: When a child class overrides a method from its parent, super() allows you to call the parent class's implementation of that method. This is crucial for maintaining or extending the parent class's behavior while adding specific functionality to the child class\n",
        "\n",
        "\n",
        "21.What is the significance of the __del__ method in Python?\n",
        " a special method that is automatically called when an object is about to be garbage collected.\n",
        "\n",
        "Resource Cleanup: It's primarily used for performing cleanup actions before an object is permanently removed from memory.\n",
        "\n",
        "\n",
        "\n",
        "22.What is the difference between @staticmethod and @classmethod in Python?\n",
        "   - @staticmethod\n",
        "\n",
        "No implicit arguments: Doesn't receive self (instance) or cls (class) as the first argument.\n",
        "Behavior: Behaves like a regular function but is defined within a class for organizational purposes.\n",
        "\n",
        " - @classmethod\n",
        "\n",
        "Receives cls: Takes the class (cls) as the first argument.\n",
        "Access to Class: Can access and modify class-level attributes.\n",
        "\n",
        "\n",
        "23.How does polymorphism work in Python with inheritance?\n",
        "  - Polymorphism in Python with Inheritance\n",
        "\n",
        "Polymorphism in Python, particularly with inheritance, revolves around the concept of method overriding. This allows objects of different classes to be treated as objects of a common type (the superclass) while exhibiting specific behaviors.\n",
        "\n",
        "24.What is method chaining in Python OOP1\n",
        "   - In Python, method chaining is a fluent and elegant way to call multiple methods on the same object in a single line of code.\n",
        "\n",
        "   Return self: A method that modifies the object itself (e.g., a setter method) often returns the object itself (self).\n",
        "Chaining: This allows you to immediately call another method on the returned object, creating a chain of method calls.\n",
        "\n",
        "\n",
        "25.What is the purpose of the __call__ method in Python?\n",
        "   - The __call__ method in Python allows you to make instances of a class callable, meaning you can treat them like functions.\n",
        "\n",
        "Purpose: Enables instances of a class to be invoked as if they were functions.\n",
        "\n",
        "How it works: When you define __call__ within a class, you can then call an instance of that class using parentheses, just like you would call a function.\n",
        "\n",
        "\n",
        "\n"
      ],
      "metadata": {
        "id": "cCKTxQNtn_mD"
      }
    },
    {
      "cell_type": "code",
      "source": [
        "#Practical Questions\n",
        "\n",
        "#1.Create a parent class Animal with a method speak() that prints a generic message. Create a child class Dog\n",
        "#that overrides the speak() method to print \"Bark!\".\n",
        "\n",
        "\n",
        "class Animal:\n",
        "    def speak(self):\n",
        "        print(\"Generic animal sound\")\n",
        "\n",
        "class Dog(Animal):\n",
        "    def speak(self):\n",
        "        print(\"Bark!\")\n",
        "\n",
        "\n",
        "my_dog = Dog()\n",
        "\n",
        "\n",
        "my_dog.speak()"
      ],
      "metadata": {
        "colab": {
          "base_uri": "https://localhost:8080/"
        },
        "id": "c2Ml6_fis5mj",
        "outputId": "dfaf55a1-e76f-4985-9d49-03d888319e3a"
      },
      "execution_count": 1,
      "outputs": [
        {
          "output_type": "stream",
          "name": "stdout",
          "text": [
            "Bark!\n"
          ]
        }
      ]
    },
    {
      "cell_type": "code",
      "source": [
        "#2.Write a program to create an abstract class Shape with a method area(). Derive classes Circle and Rectangle\n",
        "#from it and implement the area() method in both.\n",
        "\n",
        "\n",
        "from abc import ABC, abstractmethod\n",
        "\n",
        "class Shape(ABC):\n",
        "    @abstractmethod\n",
        "    def area(self):\n",
        "        pass\n",
        "\n",
        "class Circle(Shape):\n",
        "    def __init__(self, radius):\n",
        "        self.radius = radius\n",
        "\n",
        "    def area(self):\n",
        "        return 3.14159 * self.radius ** 2\n",
        "\n",
        "class Rectangle(Shape):\n",
        "    def __init__(self, width, height):\n",
        "        self.width = width\n",
        "        self.height = height\n",
        "\n",
        "    def area(self):\n",
        "        return self.width * self.height\n",
        "\n",
        "\n",
        "circle = Circle(5)\n",
        "rectangle = Rectangle(4, 6)\n",
        "\n",
        "print(\"Area of Circle:\", circle.area())\n",
        "print(\"Area of Rectangle:\", rectangle.area())"
      ],
      "metadata": {
        "colab": {
          "base_uri": "https://localhost:8080/"
        },
        "id": "8KdQccVXtRpe",
        "outputId": "3985a2f7-10a7-46c1-cf39-4a27667397a9"
      },
      "execution_count": 2,
      "outputs": [
        {
          "output_type": "stream",
          "name": "stdout",
          "text": [
            "Area of Circle: 78.53975\n",
            "Area of Rectangle: 24\n"
          ]
        }
      ]
    },
    {
      "cell_type": "code",
      "source": [
        "#3. Implement a multi-level inheritance scenario where a class Vehicle has an attribute type. Derive a class Car\n",
        "#and further derive a class ElectricCar that adds a battery attribute.\n",
        "\n",
        "class Vehicle:\n",
        "    def __init__(self, type):\n",
        "        self.type = type\n",
        "\n",
        "class Car(Vehicle):\n",
        "    def __init__(self, type, brand):\n",
        "        super().__init__(type)\n",
        "        self.brand = brand\n",
        "\n",
        "class ElectricCar(Car):\n",
        "    def __init__(self, type, brand, battery):\n",
        "        super().__init__(type, brand)\n",
        "        self.battery = battery\n",
        "\n",
        "\n",
        "my_car = ElectricCar(\"passenger\", \"Tesla\", \"75kWh\")\n",
        "\n",
        "\n",
        "print(\"Type:\", my_car.type)\n",
        "print(\"Brand:\", my_car.brand)\n",
        "print(\"Battery:\", my_car.battery)"
      ],
      "metadata": {
        "colab": {
          "base_uri": "https://localhost:8080/"
        },
        "id": "j-JWccVUtyGi",
        "outputId": "283e0d98-bd34-4097-c3a1-af3d6ec96160"
      },
      "execution_count": 3,
      "outputs": [
        {
          "output_type": "stream",
          "name": "stdout",
          "text": [
            "Type: passenger\n",
            "Brand: Tesla\n",
            "Battery: 75kWh\n"
          ]
        }
      ]
    },
    {
      "cell_type": "code",
      "source": [
        "#4. Implement a multi-level inheritance scenario where a class Vehicle has an attribute type. Derive a class Car\n",
        "#and further derive a class ElectricCar that adds a battery attribute\n",
        "\n",
        "\n",
        "class Vehicle:\n",
        "    def __init__(self, type):\n",
        "        self.type = type\n",
        "\n",
        "class Car(Vehicle):\n",
        "    def __init__(self, type, brand):\n",
        "        super().__init__(type)\n",
        "        self.brand = brand\n",
        "\n",
        "class ElectricCar(Car):\n",
        "    def __init__(self, type, brand, battery):\n",
        "        super().__init__(type, brand)\n",
        "        self.battery = battery\n",
        "\n",
        "my_car = ElectricCar(\"passenger\", \"Tesla\", \"75kWh\")\n",
        "\n",
        "\n",
        "print(\"Type:\", my_car.type)\n",
        "print(\"Brand:\", my_car.brand)\n",
        "print(\"Battery:\", my_car.battery)"
      ],
      "metadata": {
        "colab": {
          "base_uri": "https://localhost:8080/"
        },
        "id": "h2mKWIPauAto",
        "outputId": "faeabfff-ad9c-4269-aeae-190c4c60b6df"
      },
      "execution_count": 4,
      "outputs": [
        {
          "output_type": "stream",
          "name": "stdout",
          "text": [
            "Type: passenger\n",
            "Brand: Tesla\n",
            "Battery: 75kWh\n"
          ]
        }
      ]
    },
    {
      "cell_type": "code",
      "source": [
        "#5.Write a program to demonstrate encapsulation by creating a class BankAccount with private attributes\n",
        "#balance and methods to deposit, withdraw, and check balance.\n",
        "\n",
        "class BankAccount:\n",
        "    def __init__(self, initial_balance):\n",
        "        self.__balance = initial_balance\n",
        "\n",
        "    def deposit(self, amount):\n",
        "        if amount > 0:\n",
        "            self.__balance += amount\n",
        "            print(f\"Deposited ${amount}. New balance: ${self.__balance}\")\n",
        "        else:\n",
        "            print(\"Invalid deposit amount.\")\n",
        "\n",
        "    def withdraw(self, amount):\n",
        "        if 0 < amount <= self.__balance:\n",
        "            self.__balance -= amount\n",
        "            print(f\"Withdrew ${amount}. New balance: ${self.__balance}\")\n",
        "        elif amount <= 0:\n",
        "            print(\"Invalid withdrawal amount.\")\n",
        "        else:\n",
        "            print(\"Insufficient funds.\")\n",
        "\n",
        "    def check_balance(self):\n",
        "        print(f\"Current balance: ${self.__balance}\")\n",
        "\n",
        "\n",
        "my_account = BankAccount(1000)\n",
        "\n",
        "my_account.deposit(500)\n",
        "my_account.withdraw(200)\n",
        "my_account.withdraw(1500)\n",
        "my_account.check_balance()"
      ],
      "metadata": {
        "colab": {
          "base_uri": "https://localhost:8080/"
        },
        "id": "bC5sKdRGugHi",
        "outputId": "96bc4fa4-9c24-4c93-b098-6884a520a93b"
      },
      "execution_count": 5,
      "outputs": [
        {
          "output_type": "stream",
          "name": "stdout",
          "text": [
            "Deposited $500. New balance: $1500\n",
            "Withdrew $200. New balance: $1300\n",
            "Insufficient funds.\n",
            "Current balance: $1300\n"
          ]
        }
      ]
    },
    {
      "cell_type": "code",
      "source": [
        "#6. Demonstrate runtime polymorphism using a method play() in a base class Instrument. Derive classes Guitar\n",
        "#and Piano that implement their own version of play()\n",
        "\n",
        "class Instrument:\n",
        "    def play(self):\n",
        "        print(\"Generic instrument sound\")\n",
        "\n",
        "class Guitar(Instrument):\n",
        "    def play(self):\n",
        "        print(\"Strumming...\")\n",
        "\n",
        "class Piano(Instrument):\n",
        "    def play(self):\n",
        "        print(\"Playing notes...\")\n",
        "\n",
        "def make_music(instrument):\n",
        "    instrument.play()\n",
        "\n",
        "\n",
        "guitar = Guitar()\n",
        "piano = Piano()\n",
        "\n",
        "\n",
        "make_music(guitar)\n",
        "make_music(piano)"
      ],
      "metadata": {
        "colab": {
          "base_uri": "https://localhost:8080/"
        },
        "id": "OKMt5xZ3urw4",
        "outputId": "263ffc6c-92bf-459a-c963-757815396738"
      },
      "execution_count": 6,
      "outputs": [
        {
          "output_type": "stream",
          "name": "stdout",
          "text": [
            "Strumming...\n",
            "Playing notes...\n"
          ]
        }
      ]
    },
    {
      "cell_type": "code",
      "source": [
        "#7.Create a class MathOperations with a class method add_numbers() to add two numbers and a static\n",
        "#method subtract_numbers() to subtract two numbers.\n",
        "\n",
        "class MathOperations:\n",
        "    @classmethod\n",
        "    def add_numbers(cls, a, b):\n",
        "        \"\"\"Adds two numbers.\"\"\"\n",
        "        return a + b\n",
        "\n",
        "    @staticmethod\n",
        "    def subtract_numbers(a, b):\n",
        "        \"\"\"Subtracts two numbers.\"\"\"\n",
        "        return a - b\n",
        "\n",
        "\n",
        "result_add = MathOperations.add_numbers(5, 3)\n",
        "result_subtract = MathOperations.subtract_numbers(10, 4)\n",
        "\n",
        "print(\"Addition:\", result_add)\n",
        "print(\"Subtraction:\", result_subtract)"
      ],
      "metadata": {
        "colab": {
          "base_uri": "https://localhost:8080/"
        },
        "id": "mBuF4CVuu2FV",
        "outputId": "598b588c-9291-4a3a-8371-63282489f834"
      },
      "execution_count": 7,
      "outputs": [
        {
          "output_type": "stream",
          "name": "stdout",
          "text": [
            "Addition: 8\n",
            "Subtraction: 6\n"
          ]
        }
      ]
    },
    {
      "cell_type": "code",
      "source": [
        "#8. Implement a class Person with a class method to count the total number of persons created.\n",
        "\n",
        "class Person:\n",
        "    count = 0\n",
        "\n",
        "    def __init__(self, name):\n",
        "        self.name = name\n",
        "        Person.count += 1\n",
        "\n",
        "    @classmethod\n",
        "    def get_person_count(cls):\n",
        "        \"\"\"Returns the total number of persons created.\"\"\"\n",
        "        return cls.count\n",
        "\n",
        "\n",
        "person1 = Person(\"Alice\")\n",
        "person2 = Person(\"Bob\")\n",
        "person3 = Person(\"Charlie\")\n",
        "\n",
        "\n",
        "total_persons = Person.get_person_count()\n",
        "\n",
        "print(f\"Total number of persons created: {total_persons}\")"
      ],
      "metadata": {
        "colab": {
          "base_uri": "https://localhost:8080/"
        },
        "id": "aBko--tNvUv_",
        "outputId": "ccba3c56-d14d-4aad-8070-6cdc0a348682"
      },
      "execution_count": 8,
      "outputs": [
        {
          "output_type": "stream",
          "name": "stdout",
          "text": [
            "Total number of persons created: 3\n"
          ]
        }
      ]
    },
    {
      "cell_type": "code",
      "source": [
        "#9.Write a class Fraction with attributes numerator and denominator. Override the str method to display the\n",
        "#fraction as \"numerator/denominator\".\n",
        "\n",
        "class Fraction:\n",
        "    def __init__(self, numerator, denominator):\n",
        "        self.numerator = numerator\n",
        "        self.denominator = denominator\n",
        "\n",
        "    def __str__(self):\n",
        "        return f\"{self.numerator}/{self.denominator}\"\n",
        "\n",
        "\n",
        "my_fraction = Fraction(3, 4)\n",
        "\n",
        "\n",
        "print(my_fraction)"
      ],
      "metadata": {
        "colab": {
          "base_uri": "https://localhost:8080/"
        },
        "id": "cp363XNzwPBF",
        "outputId": "9fec8ec2-9a00-4ea6-c990-f1a2048ee879"
      },
      "execution_count": 9,
      "outputs": [
        {
          "output_type": "stream",
          "name": "stdout",
          "text": [
            "3/4\n"
          ]
        }
      ]
    },
    {
      "cell_type": "code",
      "source": [
        "#10. Demonstrate operator overloading by creating a class Vector and overriding the add method to add two\n",
        "#vectors.\n",
        "\n",
        "class Vector:\n",
        "    def __init__(self, x, y):\n",
        "        self.x = x\n",
        "        self.y = y\n",
        "\n",
        "    def __add__(self, other):\n",
        "        \"\"\"Overloads the + operator for vector addition.\"\"\"\n",
        "        return Vector(self.x + other.x, self.y + other.y)\n",
        "\n",
        "\n",
        "v1 = Vector(2, 3)\n",
        "v2 = Vector(1, 4)\n",
        "\n",
        "\n",
        "result_vector = v1 + v2\n",
        "\n",
        "\n",
        "print(f\"Result: ({result_vector.x}, {result_vector.y})\")"
      ],
      "metadata": {
        "colab": {
          "base_uri": "https://localhost:8080/"
        },
        "id": "eVP-pBt0wmjO",
        "outputId": "a4275dcd-b3e9-409e-dbce-f34fb6ae70a2"
      },
      "execution_count": 10,
      "outputs": [
        {
          "output_type": "stream",
          "name": "stdout",
          "text": [
            "Result: (3, 7)\n"
          ]
        }
      ]
    },
    {
      "cell_type": "code",
      "source": [
        "#11.Create a class Person with attributes name and age. Add a method greet() that prints \"Hello, my name is\n",
        "#{name} and I am {age} years old.\n",
        "\n",
        "class Person:\n",
        "    def __init__(self, name, age):\n",
        "        self.name = name\n",
        "        self.age = age\n",
        "\n",
        "    def greet(self):\n",
        "        print(f\"Hello, my name is {self.name} and I am {self.age} years old.\")\n",
        "\n",
        "person1 = Person(\"Alice\", 30)\n",
        "\n",
        "\n",
        "person1.greet()"
      ],
      "metadata": {
        "colab": {
          "base_uri": "https://localhost:8080/"
        },
        "id": "R7AwAyBpxMnP",
        "outputId": "58e5d95c-ccf8-437e-c558-5ec66f20e026"
      },
      "execution_count": 11,
      "outputs": [
        {
          "output_type": "stream",
          "name": "stdout",
          "text": [
            "Hello, my name is Alice and I am 30 years old.\n"
          ]
        }
      ]
    },
    {
      "cell_type": "code",
      "source": [
        "#12.Implement a class Student with attributes name and grades. Create a method average_grade() to compute\n",
        "#the average of the grades\n",
        "\n",
        "class Student:\n",
        "    def __init__(self, name, grades):\n",
        "        self.name = name\n",
        "        self.grades = grades\n",
        "\n",
        "    def average_grade(self):\n",
        "        if len(self.grades) == 0:\n",
        "            return 0\n",
        "        return sum(self.grades) / len(self.grades)\n",
        "\n",
        "\n",
        "student1 = Student(\"Alice\", [90, 85, 92])\n",
        "student2 = Student(\"Bob\", [78, 88, 95, 80])\n",
        "\n",
        "print(f\"{student1.name}'s average grade: {student1.average_grade()}\")\n",
        "print(f\"{student2.name}'s average grade: {student2.average_grade()}\")"
      ],
      "metadata": {
        "colab": {
          "base_uri": "https://localhost:8080/"
        },
        "id": "gaAZRDU_xbcY",
        "outputId": "bfc7661d-8a8b-4a40-9384-26d5086b5693"
      },
      "execution_count": 12,
      "outputs": [
        {
          "output_type": "stream",
          "name": "stdout",
          "text": [
            "Alice's average grade: 89.0\n",
            "Bob's average grade: 85.25\n"
          ]
        }
      ]
    },
    {
      "cell_type": "code",
      "source": [
        "#13. Create a class Rectangle with methods set_dimensions() to set the dimensions and area() to calculate the\n",
        "#area.\n",
        "\n",
        "class Rectangle:\n",
        "    def __init__(self):\n",
        "        self.width = 0\n",
        "        self.height = 0\n",
        "\n",
        "    def set_dimensions(self, width, height):\n",
        "        self.width = width\n",
        "        self.height = height\n",
        "\n",
        "    def area(self):\n",
        "        return self.width * self.height\n",
        "\n",
        "\n",
        "my_rectangle = Rectangle()\n",
        "\n",
        "\n",
        "my_rectangle.set_dimensions(5, 3)\n",
        "\n",
        "print(\"Area of the rectangle:\", my_rectangle.area())"
      ],
      "metadata": {
        "colab": {
          "base_uri": "https://localhost:8080/"
        },
        "id": "lXp0G3-SxtBp",
        "outputId": "cae53050-218e-40c1-bee0-e9492d46c87e"
      },
      "execution_count": 13,
      "outputs": [
        {
          "output_type": "stream",
          "name": "stdout",
          "text": [
            "Area of the rectangle: 15\n"
          ]
        }
      ]
    },
    {
      "cell_type": "code",
      "source": [
        "#14.Create a class Employee with a method calculate_salary() that computes the salary based on hours worked\n",
        "#and hourly rate. Create a derived class Manager that adds a bonus to the salary.\n",
        "\n",
        "\n",
        "class Employee:\n",
        "    def __init__(self, name, hours_worked, hourly_rate):\n",
        "        self.name = name\n",
        "        self.hours_worked = hours_worked\n",
        "        self.hourly_rate = hourly_rate\n",
        "\n",
        "    def calculate_salary(self):\n",
        "        return self.hours_worked * self.hourly_rate\n",
        "\n",
        "class Manager(Employee):\n",
        "    def __init__(self, name, hours_worked, hourly_rate, bonus):\n",
        "        super().__init__(name, hours_worked, hourly_rate)\n",
        "        self.bonus = bonus\n",
        "\n",
        "    def calculate_salary(self):\n",
        "        base_salary = super().calculate_salary()\n",
        "        return base_salary + self.bonus\n",
        "\n",
        "\n",
        "employee = Employee(\"John Doe\", 40, 25)\n",
        "manager = Manager(\"Jane Smith\", 45, 30, 500)\n",
        "\n",
        "print(f\"{employee.name}'s salary: ${employee.calculate_salary()}\")\n",
        "print(f\"{manager.name}'s salary: ${manager.calculate_salary()}\")"
      ],
      "metadata": {
        "colab": {
          "base_uri": "https://localhost:8080/"
        },
        "id": "Mpu_UJPeyEQ3",
        "outputId": "8f31b07e-f111-40f5-8139-cc96678e7938"
      },
      "execution_count": 14,
      "outputs": [
        {
          "output_type": "stream",
          "name": "stdout",
          "text": [
            "John Doe's salary: $1000\n",
            "Jane Smith's salary: $1850\n"
          ]
        }
      ]
    },
    {
      "cell_type": "code",
      "source": [
        "#15. Create a class Product with attributes name, price, and quantity. Implement a method total_price() that\n",
        "#calculates the total price of the product.\n",
        "\n",
        "class Product:\n",
        "    def __init__(self, name, price, quantity):\n",
        "        self.name = name\n",
        "        self.price = price\n",
        "        self.quantity = quantity\n",
        "\n",
        "    def total_price(self):\n",
        "        return self.price * self.quantity\n",
        "\n",
        "\n",
        "product1 = Product(\"Laptop\", 1200, 2)\n",
        "product2 = Product(\"Phone\", 800, 1)\n",
        "\n",
        "print(f\"{product1.name} total price: ${product1.total_price()}\")\n",
        "print(f\"{product2.name} total price: ${product2.total_price()}\")"
      ],
      "metadata": {
        "colab": {
          "base_uri": "https://localhost:8080/"
        },
        "id": "W72lJh-uyeGE",
        "outputId": "51f3f69d-5bc8-4f05-a9fd-5e032a493467"
      },
      "execution_count": 15,
      "outputs": [
        {
          "output_type": "stream",
          "name": "stdout",
          "text": [
            "Laptop total price: $2400\n",
            "Phone total price: $800\n"
          ]
        }
      ]
    },
    {
      "cell_type": "code",
      "source": [
        "#16Create a class Animal with an abstract method sound(). Create two derived classes Cow and Sheep that\n",
        "#implement the sound() method.\n",
        "\n",
        "\n",
        "from abc import ABC, abstractmethod\n",
        "\n",
        "class Animal(ABC):\n",
        "    @abstractmethod\n",
        "    def sound(self):\n",
        "        pass\n",
        "\n",
        "class Cow(Animal):\n",
        "    def sound(self):\n",
        "        print(\"Moo\")\n",
        "\n",
        "class Sheep(Animal):\n",
        "    def sound(self):\n",
        "        print(\"Baa\")\n",
        "\n",
        "cow = Cow()\n",
        "sheep = Sheep()\n",
        "\n",
        "\n",
        "cow.sound()\n",
        "sheep.sound()"
      ],
      "metadata": {
        "colab": {
          "base_uri": "https://localhost:8080/"
        },
        "id": "uomwFy_9yyBv",
        "outputId": "f59659c4-4be4-4715-a297-6d553611f98d"
      },
      "execution_count": 16,
      "outputs": [
        {
          "output_type": "stream",
          "name": "stdout",
          "text": [
            "Moo\n",
            "Baa\n"
          ]
        }
      ]
    },
    {
      "cell_type": "code",
      "source": [
        "#17Create a class Book with attributes title, author, and year_published. Add a method get_book_info() that\n",
        "#returns a formatted string with the book's details.\n",
        "\n",
        "class Book:\n",
        "    def __init__(self, title, author, year_published):\n",
        "        self.title = title\n",
        "        self.author = author\n",
        "        self.year_published = year_published\n",
        "\n",
        "    def get_book_info(self):\n",
        "        return f\"Title: {self.title}, Author: {self.author}, Year Published: {self.year_published}\"\n",
        "\n",
        "\n",
        "book1 = Book(\"The Lord of the Rings\", \"J.R.R. Tolkien\", 1954)\n",
        "\n",
        "\n",
        "book_info = book1.get_book_info()\n",
        "print(book_info)"
      ],
      "metadata": {
        "colab": {
          "base_uri": "https://localhost:8080/"
        },
        "id": "svt6BRFHy-8_",
        "outputId": "edfba14e-dee9-429b-c8a7-7d8faeb2c9ba"
      },
      "execution_count": 17,
      "outputs": [
        {
          "output_type": "stream",
          "name": "stdout",
          "text": [
            "Title: The Lord of the Rings, Author: J.R.R. Tolkien, Year Published: 1954\n"
          ]
        }
      ]
    },
    {
      "cell_type": "code",
      "source": [
        "#18. Create a class House with attributes address and price. Create a derived class Mansion that adds an\n",
        "#attribute number_of_rooms.\n",
        "\n",
        "\n",
        "class House:\n",
        "    def __init__(self, address, price):\n",
        "        self.address = address\n",
        "        self.price = price\n",
        "\n",
        "class Mansion(House):\n",
        "    def __init__(self, address, price, number_of_rooms):\n",
        "        super().__init__(address, price)\n",
        "        self.number_of_rooms = number_of_rooms\n",
        "\n",
        "mansion = Mansion(\"123 Luxury Lane\", 1000000, 10)\n",
        "\n",
        "\n",
        "print(f\"Address: {mansion.address}\")\n",
        "print(f\"Price: ${mansion.price}\")\n",
        "print(f\"Number of Rooms: {mansion.number_of_rooms}\")"
      ],
      "metadata": {
        "colab": {
          "base_uri": "https://localhost:8080/"
        },
        "id": "jVyJ6zHbzWlZ",
        "outputId": "fa2903a2-4a63-4373-a14d-c44ce0bb6aa1"
      },
      "execution_count": 18,
      "outputs": [
        {
          "output_type": "stream",
          "name": "stdout",
          "text": [
            "Address: 123 Luxury Lane\n",
            "Price: $1000000\n",
            "Number of Rooms: 10\n"
          ]
        }
      ]
    }
  ]
}